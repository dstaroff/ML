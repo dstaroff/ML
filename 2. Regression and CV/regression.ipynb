{
 "cells": [
  {
   "cell_type": "markdown",
   "metadata": {},
   "source": [
    "# Регрессия и CV\n",
    "<p>Протестируем различные виды регрессии на данных второго датасета и проведем CV методом Leave-one-out и Monte Carlo.</p>"
   ]
  },
  {
   "cell_type": "code",
   "execution_count": null,
   "metadata": {
    "collapsed": false
   },
   "outputs": [],
   "source": [
    "%pylab inline\n",
    "\n",
    "from regression import *\n",
    "from plot import plot\n",
    "from pickle import load\n",
    "\n",
    "data = load(open('task2_dataset_2.txt', 'rb'), encoding='bytes')"
   ]
  },
  {
   "cell_type": "markdown",
   "metadata": {},
   "source": [
    "## Линейная регрессия"
   ]
  },
  {
   "cell_type": "code",
   "execution_count": null,
   "metadata": {
    "collapsed": false
   },
   "outputs": [],
   "source": [
    "plot([linear(data, kwargs='for_plot')], title=['Linear'])\n",
    "cv(data, '--linear')"
   ]
  },
  {
   "cell_type": "markdown",
   "metadata": {},
   "source": [
    "## Полиномная модель\n",
    "<p>Степень полинома получена эмпирически.</p>"
   ]
  },
  {
   "cell_type": "code",
   "execution_count": null,
   "metadata": {
    "collapsed": false
   },
   "outputs": [],
   "source": [
    "k = 5\n",
    "plot([polynomial(data, k, kwargs='for_plot')], title=['Polynomial'])\n",
    "cv(data, '--polynomial', k=k)"
   ]
  },
  {
   "cell_type": "markdown",
   "metadata": {},
   "source": [
    "## Криволинейная модель\n",
    "<p>Функции выбраны именно такими, потому что они мне нравятся <b>^.^</b><br>\n",
    "А еще мне нравится красивый результат, полученный благодаря этим функциям.</p>"
   ]
  },
  {
   "cell_type": "code",
   "execution_count": null,
   "metadata": {
    "collapsed": false
   },
   "outputs": [],
   "source": [
    "functions = [lambda arg: sin(arg), lambda arg: cosh(arg), lambda arg: cos(arg), lambda arg: exp(arg), lambda arg: sqrt(abs(arg))]\n",
    "plot([non_linear(data, functions, kwargs='for_plot')], title=['Non-Linear'])\n",
    "cv(data, '--nonlinear')"
   ]
  },
  {
   "cell_type": "markdown",
   "metadata": {},
   "source": [
    "## Проверка на различных датасетах\n",
    "Теперь стоит проверить работу регрессий на различных датасетах."
   ]
  },
  {
   "cell_type": "code",
   "execution_count": null,
   "metadata": {
    "collapsed": false
   },
   "outputs": [],
   "source": [
    "k = 5\n",
    "functions = [lambda arg: sin(arg), lambda arg: cosh(arg), lambda arg: cos(arg), lambda arg: exp(arg), lambda arg: sqrt(abs(arg))]\n",
    "data = load(open('task2_dataset_1.txt', 'rb'), encoding='bytes')\n",
    "plot([linear(data, kwargs='for_plot'), polynomial(data, k, kwargs='for_plot'), non_linear(data, functions, kwargs='for_plot')], ['Linear', 'Polynomial', 'Non-Linear'])"
   ]
  },
  {
   "cell_type": "code",
   "execution_count": null,
   "metadata": {
    "collapsed": false
   },
   "outputs": [],
   "source": [
    "k = 5\n",
    "functions = [lambda arg: sin(arg), lambda arg: cosh(arg), lambda arg: cos(arg), lambda arg: exp(arg), lambda arg: sqrt(abs(arg))]\n",
    "data = load(open('task2_dataset_2.txt', 'rb'), encoding='bytes')\n",
    "plot([linear(data, kwargs='for_plot'), polynomial(data, k, kwargs='for_plot'), non_linear(data, functions, kwargs='for_plot')], ['Linear', 'Polynomial', 'Non-Linear'])"
   ]
  },
  {
   "cell_type": "code",
   "execution_count": null,
   "metadata": {
    "collapsed": false
   },
   "outputs": [],
   "source": [
    "k = 5\n",
    "functions = [lambda arg: sin(arg), lambda arg: cosh(arg), lambda arg: cos(arg), lambda arg: exp(arg), lambda arg: sqrt(abs(arg))]\n",
    "data = load(open('task2_dataset_3.txt', 'rb'), encoding='bytes')\n",
    "plot([linear(data, kwargs='for_plot'), polynomial(data, k, kwargs='for_plot'), non_linear(data, functions, kwargs='for_plot')], ['Linear', 'Polynomial', 'Non-Linear'])"
   ]
  },
  {
   "cell_type": "markdown",
   "metadata": {},
   "source": [
    "## Вывод\n",
    "<p>Предложенные модели неплохо справляются с поставленной задачей, что также можно сказать о CV: Leave-One-Out и Monte Carlo. Данные методы довольно точно считают ошибку и получают приблизительно похожий результат, но в общем случае больше стоит доверять методу Leave-One-Out, который показывает более точную оценку в сравнении с методом Monte Carlo.</p>"
   ]
  }
 ],
 "metadata": {
  "kernelspec": {
   "display_name": "Python 3",
   "language": "python",
   "name": "python3"
  },
  "language_info": {
   "codemirror_mode": {
    "name": "ipython",
    "version": 3
   },
   "file_extension": ".py",
   "mimetype": "text/x-python",
   "name": "python",
   "nbconvert_exporter": "python",
   "pygments_lexer": "ipython3",
   "version": "3.4.3"
  }
 },
 "nbformat": 4,
 "nbformat_minor": 0
}
