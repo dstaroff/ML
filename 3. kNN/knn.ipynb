{
 "cells": [
  {
   "cell_type": "code",
   "execution_count": 1,
   "metadata": {
    "collapsed": false
   },
   "outputs": [],
   "source": [
    "from sklearn.datasets import load_iris\n",
    "from knn import *"
   ]
  },
  {
   "cell_type": "markdown",
   "metadata": {},
   "source": [
    "<p>Переопределим данные для более удобного представления.</p>"
   ]
  },
  {
   "cell_type": "code",
   "execution_count": 2,
   "metadata": {
    "collapsed": false
   },
   "outputs": [],
   "source": [
    "tmp_data = load_iris()\n",
    "data = [{tmp_data.feature_names[0]: float(tmp_data.data[i][0]),\n",
    "         tmp_data.feature_names[1]: float(tmp_data.data[i][1]),\n",
    "         tmp_data.feature_names[2]: float(tmp_data.data[i][2]),\n",
    "         tmp_data.feature_names[3]: float(tmp_data.data[i][3]),\n",
    "         'kind': tmp_data.target_names[i // 50]} for i in range(len(tmp_data.target))]\n",
    "\n",
    "learn_data, test_data = split_data(data)\n",
    "\n",
    "features = tmp_data.feature_names"
   ]
  },
  {
   "cell_type": "markdown",
   "metadata": {},
   "source": [
    "<p>Найдем <b><i>k</i></b> с помощью <b>Grid search</b> для случая невзвешенного <b>kNN</b> и <b>Евклидовой</b> метрики. Найдем ошибку при данном <b><i>k</i></b>.</p>"
   ]
  },
  {
   "cell_type": "code",
   "execution_count": 3,
   "metadata": {
    "collapsed": false
   },
   "outputs": [
    {
     "data": {
      "text/plain": [
       "'k = 1; err = 0.08888888888888889'"
      ]
     },
     "execution_count": 3,
     "metadata": {},
     "output_type": "execute_result"
    }
   ],
   "source": [
    "found_k = grid_search(learn_data, test_data, features=features, weighted=False, metrics='euclid')\n",
    "\"k = {0}; err = {1}\".format(found_k,\n",
    "                            cv(learn_data, test_data, found_k, features, weighted=False, metrics='euclid'))"
   ]
  },
  {
   "cell_type": "markdown",
   "metadata": {},
   "source": [
    "<p>Найдем <b><i>k</i></b> с помощью <b>Grid search</b> для случая взвешенного <b>kNN</b> и <b>Евклидовой</b> метрики. Найдем ошибку при данном <b><i>k</i></b>.</p>"
   ]
  },
  {
   "cell_type": "code",
   "execution_count": 4,
   "metadata": {
    "collapsed": false
   },
   "outputs": [
    {
     "data": {
      "text/plain": [
       "'k = 2; err = 0.06666666666666667'"
      ]
     },
     "execution_count": 4,
     "metadata": {},
     "output_type": "execute_result"
    }
   ],
   "source": [
    "found_k = grid_search(learn_data, test_data, features=features, weighted=True, metrics='euclid')\n",
    "\"k = {0}; err = {1}\".format(found_k, \n",
    "                            cv(learn_data, test_data, found_k, features, weighted=True, metrics='euclid'))"
   ]
  },
  {
   "cell_type": "markdown",
   "metadata": {},
   "source": [
    "<p>Найдем <b><i>k</i></b> с помощью <b>Grid search</b> для случая невзвешенного <b>kNN</b> и <b>Манхэттенской</b> метрики. Найдем ошибку при данном <b><i>k</i></b>.</p>"
   ]
  },
  {
   "cell_type": "code",
   "execution_count": 5,
   "metadata": {
    "collapsed": false
   },
   "outputs": [
    {
     "data": {
      "text/plain": [
       "'k = 1; err = 0.08888888888888889'"
      ]
     },
     "execution_count": 5,
     "metadata": {},
     "output_type": "execute_result"
    }
   ],
   "source": [
    "found_k = grid_search(learn_data, test_data, features=features, weighted=False, metrics='manhattan')\n",
    "\"k = {0}; err = {1}\".format(found_k,\n",
    "                            cv(learn_data, test_data, found_k, features, weighted=False, metrics='manhattan'))"
   ]
  },
  {
   "cell_type": "markdown",
   "metadata": {},
   "source": [
    "<p>Найдем <b><i>k</i></b> с помощью <b>Grid search</b> для случая взвешенного <b>kNN</b> и <b>Манхэттенской</b> метрики. Найдем ошибку при данном <b><i>k</i></b>.</p>"
   ]
  },
  {
   "cell_type": "code",
   "execution_count": 6,
   "metadata": {
    "collapsed": false
   },
   "outputs": [
    {
     "data": {
      "text/plain": [
       "'k = 1; err = 0.08888888888888889'"
      ]
     },
     "execution_count": 6,
     "metadata": {},
     "output_type": "execute_result"
    }
   ],
   "source": [
    "found_k = grid_search(learn_data, test_data, features=features, weighted=True, metrics='manhattan')\n",
    "\"k = {0}; err = {1}\".format(found_k,\n",
    "                            cv(learn_data, test_data, found_k, features, weighted=True, metrics='manhattan'))"
   ]
  }
 ],
 "metadata": {
  "kernelspec": {
   "display_name": "Python 3",
   "language": "python",
   "name": "python3"
  },
  "language_info": {
   "codemirror_mode": {
    "name": "ipython",
    "version": 3
   },
   "file_extension": ".py",
   "mimetype": "text/x-python",
   "name": "python",
   "nbconvert_exporter": "python",
   "pygments_lexer": "ipython3",
   "version": "3.4.3+"
  }
 },
 "nbformat": 4,
 "nbformat_minor": 0
}
