{
 "cells": [
  {
   "cell_type": "markdown",
   "metadata": {},
   "source": [
    "# Back propagation"
   ]
  },
  {
   "cell_type": "code",
   "execution_count": null,
   "metadata": {
    "collapsed": false
   },
   "outputs": [],
   "source": [
    "from backprop import *\n",
    "\n",
    "from sklearn import datasets\n",
    "from sklearn.utils import shuffle\n",
    "\n",
    "import numpy as np\n",
    "\n",
    "\n",
    "iris = datasets.load_iris()\n",
    "data = (iris.data) / float(10)\n",
    "target = iris.target\n",
    "\n",
    "learn, train = divide_data_set(data, target)\n",
    "\n",
    "learn_data = learn[:, [0, 1, 2, 3]]\n",
    "learn_target = learn[:, 4]\n",
    "learn_target = np.array([np.array([1 if learn_target[i] == j else 0 for j in range(3)]) \n",
    "                         for i in range(len(learn_target))])\n",
    "\n",
    "train_data = train[:, [0, 1, 2, 3]]\n",
    "train_target = train[:, 4]\n",
    "train_target = np.array([np.array([1 if train_target[i] == j else 0 for j in range(3)]) \n",
    "                         for i in range(len(train_target))])\n",
    "\n",
    "data, target = shuffle(data, target, random_state=0)"
   ]
  },
  {
   "cell_type": "markdown",
   "metadata": {},
   "source": [
    "<img src=\"https://pp.vk.me/c7002/v7002833/19283/55PmvvaxaLI.jpg\" />"
   ]
  },
  {
   "cell_type": "markdown",
   "metadata": {},
   "source": [
    "## Gradient descent"
   ]
  },
  {
   "cell_type": "code",
   "execution_count": null,
   "metadata": {
    "collapsed": false
   },
   "outputs": [],
   "source": [
    "network = Network()\n",
    "network.layer(4, 2)\n",
    "network.layer(2, 3)\n",
    "\n",
    "network.fit(learn_data, learn_target, batch_size=100, nb_epoch=10000, learning_rate=1)\n",
    "\n",
    "network.score(train_data, train_target)"
   ]
  },
  {
   "cell_type": "markdown",
   "metadata": {},
   "source": [
    "## SGD\n",
    "### without momentum"
   ]
  },
  {
   "cell_type": "code",
   "execution_count": null,
   "metadata": {
    "collapsed": true
   },
   "outputs": [],
   "source": [
    "network.fit(learn_data, learn_target, batch_size=1, nb_epoch=100, learning_rate=0.1, momentum=0.0)\n",
    "\n",
    "network.score(train_data, train_target)"
   ]
  },
  {
   "cell_type": "code",
   "execution_count": null,
   "metadata": {
    "collapsed": true
   },
   "outputs": [],
   "source": [
    "network.fit(learn_data, learn_target, batch_size=1, nb_epoch=1000, learning_rate=0.1, momentum=0.0)\n",
    "\n",
    "network.score(train_data, train_target)"
   ]
  },
  {
   "cell_type": "code",
   "execution_count": null,
   "metadata": {
    "collapsed": true
   },
   "outputs": [],
   "source": [
    "network.fit(learn_data, learn_target, batch_size=10, nb_epoch=10000, learning_rate=0.1, momentum=0.0)\n",
    "\n",
    "network.score(train_data, train_target)"
   ]
  },
  {
   "cell_type": "markdown",
   "metadata": {},
   "source": [
    "### with momentum"
   ]
  },
  {
   "cell_type": "code",
   "execution_count": null,
   "metadata": {
    "collapsed": true
   },
   "outputs": [],
   "source": [
    "network.fit(learn_data, learn_target, batch_size=1, nb_epoch=100, learning_rate=0.1, momentum=0.9)\n",
    "\n",
    "network.score(train_data, train_target)"
   ]
  },
  {
   "cell_type": "markdown",
   "metadata": {},
   "source": [
    "## Review\n",
    "Gradient descent is less fast than SGD despite its efficience with large value of <b>learning_rate</b>.\n",
    "SGD is more efficient with less <b>batch_size</b>. Also, using momentum, we achieve more efficience.\n",
    "<img src=\"http://yuq.kickasstorrents.video/users/11/638/jC3rVEZFDP.png\" />"
   ]
  }
 ],
 "metadata": {
  "kernelspec": {
   "display_name": "Python 3",
   "language": "python",
   "name": "python3"
  },
  "language_info": {
   "codemirror_mode": {
    "name": "ipython",
    "version": 3
   },
   "file_extension": ".py",
   "mimetype": "text/x-python",
   "name": "python",
   "nbconvert_exporter": "python",
   "pygments_lexer": "ipython3",
   "version": "3.4.3+"
  }
 },
 "nbformat": 4,
 "nbformat_minor": 0
}
