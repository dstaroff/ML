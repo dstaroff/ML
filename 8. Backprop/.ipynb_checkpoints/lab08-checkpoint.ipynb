{
 "cells": [
  {
   "cell_type": "code",
   "execution_count": 1,
   "metadata": {
    "collapsed": false
   },
   "outputs": [
    {
     "ename": "NameError",
     "evalue": "name 'lab08' is not defined",
     "output_type": "error",
     "traceback": [
      "\u001b[1;31m---------------------------------------------------------------------------\u001b[0m",
      "\u001b[1;31mNameError\u001b[0m                                 Traceback (most recent call last)",
      "\u001b[1;32m<ipython-input-1-f5fd28351833>\u001b[0m in \u001b[0;36m<module>\u001b[1;34m()\u001b[0m\n\u001b[0;32m      7\u001b[0m \u001b[0mX\u001b[0m \u001b[1;33m=\u001b[0m \u001b[1;33m(\u001b[0m\u001b[0miris\u001b[0m\u001b[1;33m.\u001b[0m\u001b[0mdata\u001b[0m\u001b[1;33m)\u001b[0m \u001b[1;33m/\u001b[0m \u001b[0mfloat\u001b[0m\u001b[1;33m(\u001b[0m\u001b[1;36m10\u001b[0m\u001b[1;33m)\u001b[0m\u001b[1;33m\u001b[0m\u001b[0m\n\u001b[0;32m      8\u001b[0m \u001b[0mY\u001b[0m \u001b[1;33m=\u001b[0m \u001b[0miris\u001b[0m\u001b[1;33m.\u001b[0m\u001b[0mtarget\u001b[0m\u001b[1;33m\u001b[0m\u001b[0m\n\u001b[1;32m----> 9\u001b[1;33m \u001b[0ml\u001b[0m\u001b[1;33m,\u001b[0m \u001b[0mt\u001b[0m \u001b[1;33m=\u001b[0m \u001b[0mlab08\u001b[0m\u001b[1;33m.\u001b[0m\u001b[0mdivide_data_set\u001b[0m\u001b[1;33m(\u001b[0m\u001b[0mX\u001b[0m\u001b[1;33m,\u001b[0m \u001b[0mY\u001b[0m\u001b[1;33m)\u001b[0m\u001b[1;33m\u001b[0m\u001b[0m\n\u001b[0m\u001b[0;32m     10\u001b[0m \u001b[0ml_x\u001b[0m \u001b[1;33m=\u001b[0m \u001b[0ml\u001b[0m\u001b[1;33m[\u001b[0m\u001b[1;33m:\u001b[0m\u001b[1;33m,\u001b[0m \u001b[1;33m[\u001b[0m\u001b[1;36m0\u001b[0m\u001b[1;33m,\u001b[0m \u001b[1;36m1\u001b[0m\u001b[1;33m,\u001b[0m \u001b[1;36m2\u001b[0m\u001b[1;33m,\u001b[0m \u001b[1;36m3\u001b[0m\u001b[1;33m]\u001b[0m\u001b[1;33m]\u001b[0m\u001b[1;33m\u001b[0m\u001b[0m\n\u001b[0;32m     11\u001b[0m \u001b[0ml_y\u001b[0m \u001b[1;33m=\u001b[0m \u001b[0ml\u001b[0m\u001b[1;33m[\u001b[0m\u001b[1;33m:\u001b[0m\u001b[1;33m,\u001b[0m \u001b[1;36m4\u001b[0m\u001b[1;33m]\u001b[0m\u001b[1;33m\u001b[0m\u001b[0m\n",
      "\u001b[1;31mNameError\u001b[0m: name 'lab08' is not defined"
     ]
    }
   ],
   "source": [
    "from backprop import *\n",
    "from sklearn import datasets\n",
    "from sklearn.utils import shuffle\n",
    "import numpy as np\n",
    "\n",
    "iris = datasets.load_iris()\n",
    "X = (iris.data) / float(10)\n",
    "Y = iris.target\n",
    "l, t = divide_data_set(X, Y)\n",
    "l_x = l[:, [0, 1, 2, 3]]\n",
    "l_y = l[:, 4]\n",
    "l_y = np.array([np.array([1 if l_y[i] == j else 0 for j in range(3)]) for i in range(len(l_y))])\n",
    "t_x = t[:, [0, 1, 2, 3]]\n",
    "t_y = t[:, 4]\n",
    "t_y = np.array([np.array([1 if t_y[i] == j else 0 for j in range(3)]) for i in range(len(t_y))])\n",
    "X, Y = shuffle(X, Y, random_state=0)\n",
    "the_Y = np.array([np.array([1 if Y[i] == j else 0 for j in range(3)]) for i in range(len(Y))])"
   ]
  },
  {
   "cell_type": "markdown",
   "metadata": {},
   "source": [
    "# Исследование на ирисах Фишера"
   ]
  },
  {
   "cell_type": "markdown",
   "metadata": {},
   "source": [
    "## Простой GD"
   ]
  },
  {
   "cell_type": "code",
   "execution_count": null,
   "metadata": {
    "collapsed": false
   },
   "outputs": [],
   "source": [
    "network1 = Network()\n",
    "network1.layer(4, 2)\n",
    "network1.layer(2, 3)\n",
    "network1.fit_1(l_x, l_y, batch_size=100, n_epochs=10000, learning_rate=1)\n",
    "print(network1.score(t_x, t_y))"
   ]
  },
  {
   "cell_type": "markdown",
   "metadata": {},
   "source": [
    "## SGD без Momentum с размером батча 1 и сотней эпох"
   ]
  },
  {
   "cell_type": "code",
   "execution_count": null,
   "metadata": {
    "collapsed": false
   },
   "outputs": [],
   "source": [
    "network2 = Network()\n",
    "network2.layer(4, 2)\n",
    "network2.layer(2, 3)\n",
    "network2.fit_1(l_x, l_y, batch_size=1, n_epochs=100, learning_rate=0.1)\n",
    "print(network2.score(t_x, t_y))"
   ]
  },
  {
   "cell_type": "markdown",
   "metadata": {},
   "source": [
    "## SGD с Momentum, размером батча 1 и сотней эпох"
   ]
  },
  {
   "cell_type": "code",
   "execution_count": null,
   "metadata": {
    "collapsed": false
   },
   "outputs": [],
   "source": [
    "network3 = Network()\n",
    "network3.layer(4, 2)\n",
    "network3.layer(2, 3)\n",
    "network3.fit_1(l_x, l_y, batch_size=1, n_epochs=100, learning_rate=0.1, momentum=0.9)\n",
    "print(network3.score(t_x, t_y))"
   ]
  },
  {
   "cell_type": "markdown",
   "metadata": {},
   "source": [
    "## SGD без Momentum, размером батча 1 и тысячей эпох "
   ]
  },
  {
   "cell_type": "code",
   "execution_count": null,
   "metadata": {
    "collapsed": false
   },
   "outputs": [],
   "source": [
    "network5 = Network()\n",
    "network5.layer(4, 2)\n",
    "network5.layer(2, 3)\n",
    "network5.fit_1(l_x, l_y, batch_size=1, n_epochs=1000, learning_rate=0.1, momentum=0.0)\n",
    "print(network5.score(t_x, t_y))"
   ]
  },
  {
   "cell_type": "markdown",
   "metadata": {},
   "source": [
    "## SGD без Momentum, размером батча 10 и десятью тысячами эпох"
   ]
  },
  {
   "cell_type": "code",
   "execution_count": null,
   "metadata": {
    "collapsed": false
   },
   "outputs": [],
   "source": [
    "network4 = Network()\n",
    "network4.layer(4, 2)\n",
    "network4.layer(2, 3)\n",
    "network4.fit_1(l_x, l_y, batch_size=10, n_epochs=10000, learning_rate=0.1, momentum=0.0)\n",
    "print(network4.score(t_x, t_y))"
   ]
  },
  {
   "cell_type": "markdown",
   "metadata": {},
   "source": [
    "Вывод: простой GD, хоть он и эффективен при больших значениях learning_rate и количества эпох, в плане скорости значительно уступает SGD. Что же касается самого SGD, то тут можно заметить следующую закономернотсь: чем меньше batch_size, тем меньше эпох надо сети, чтобы обучиться. Кроме того, при использовании momentum можно значительно увеличить эффективность SGD, вследствие чего желаемый результат достигается при меньшем количестве эпох. Кроме того, все весрии алгоритма с Нейронной сетью В РАЗЫ быстрее и эффективнее персловутого SVM."
   ]
  },
  {
   "cell_type": "code",
   "execution_count": null,
   "metadata": {
    "collapsed": true
   },
   "outputs": [],
   "source": []
  }
 ],
 "metadata": {
  "kernelspec": {
   "display_name": "Python 3",
   "language": "python",
   "name": "python3"
  },
  "language_info": {
   "codemirror_mode": {
    "name": "ipython",
    "version": 3
   },
   "file_extension": ".py",
   "mimetype": "text/x-python",
   "name": "python",
   "nbconvert_exporter": "python",
   "pygments_lexer": "ipython3",
   "version": "3.4.3+"
  }
 },
 "nbformat": 4,
 "nbformat_minor": 0
}
